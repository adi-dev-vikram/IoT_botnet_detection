{
 "cells": [
  {
   "cell_type": "code",
   "execution_count": 1,
   "metadata": {},
   "outputs": [],
   "source": [
    "from langchain.document_loaders.csv_loader import CSVLoader\n",
    "\n",
    "loader = CSVLoader(file_path='/Users/adivikra/output.csv', encoding=\"utf-8\", csv_args={\n",
    "                'delimiter': ','})\n",
    "data = loader.load()"
   ]
  },
  {
   "cell_type": "code",
   "execution_count": 2,
   "metadata": {},
   "outputs": [
    {
     "data": {
      "text/plain": [
       "list"
      ]
     },
     "execution_count": 2,
     "metadata": {},
     "output_type": "execute_result"
    }
   ],
   "source": [
    "type(data)"
   ]
  },
  {
   "cell_type": "code",
   "execution_count": 4,
   "metadata": {},
   "outputs": [
    {
     "data": {
      "text/plain": [
       "'timestamp: 1/24/2024 2:46:45 AM\\nmessage: IP collected (of Ipv4 Ethernet Network Interface): 192.168.0.81'"
      ]
     },
     "execution_count": 4,
     "metadata": {},
     "output_type": "execute_result"
    }
   ],
   "source": [
    "data[10].page_content"
   ]
  },
  {
   "cell_type": "code",
   "execution_count": 27,
   "metadata": {},
   "outputs": [],
   "source": [
    "from langchain.chat_models import AzureChatOpenAI\n",
    "from langchain.evaluation.qa import QAGenerateChain\n",
    "from langchain.prompts import PromptTemplate\n",
    "from pydantic import BaseModel\n",
    "\n",
    "# Define your Pydantic model\n",
    "class MyModel(BaseModel):\n",
    "    question: str\n",
    "    answer: str\n",
    "\n",
    "llm_chat = AzureChatOpenAI(\n",
    "    temperature=0.0, \n",
    "    deployment_name=\"rajatsa-gpt-4\", \n",
    "    openai_api_type=\"azure\", \n",
    "    openai_api_base=\"https://support-assistant-demo-ai-us-2.openai.azure.com\", \n",
    "    openai_api_version=\"2023-08-01-preview\", \n",
    "    model_name=\"gpt-3.5-turbo\", \n",
    "    openai_api_key=\"2a5292d324ff4947ab6ba9e24746dee1\"\n",
    ")\n",
    "\n",
    "template = \"\"\"You are a QA chatbot coming up with insights to ask on a given document. \n",
    "\n",
    "Create 5 questions based on the data provided in the input and make sure these questions give informative insights\n",
    "Given the following document, please generate a 3 informative insights based on that document.\n",
    "\n",
    "These insights should be detailed and be based explicitly on information in the document. \n",
    "\n",
    "Begin!\n",
    "\n",
    "<Begin Document>\n",
    "{data}\n",
    "<End Document>\"\"\"\n",
    "PROMPT = PromptTemplate(\n",
    "    input_variables=[\"data\"],\n",
    "    template=template,\n",
    ")\n",
    "input_list = [\n",
    "    {\"data\": [data]}\n",
    "]\n",
    "example_gen_chain = QAGenerateChain(\n",
    "    llm=llm_chat, \n",
    "    prompt=PROMPT,\n",
    ")"
   ]
  },
  {
   "cell_type": "code",
   "execution_count": 28,
   "metadata": {},
   "outputs": [],
   "source": [
    "qa_pair = example_gen_chain.generate(input_list)"
   ]
  },
  {
   "cell_type": "code",
   "execution_count": 29,
   "metadata": {},
   "outputs": [
    {
     "data": {
      "text/plain": [
       "LLMResult(generations=[[ChatGeneration(text='1. What is the type of action taken on the DNS requests made on the date 2023-11-22?\\n2. What are the different destinations that the DNS requests were made to on the date 2023-11-22?\\n3. What is the internal and external IP used for the DNS requests on the date 2023-11-22?\\n4. What are the different query types used in the DNS requests on the date 2023-11-22?\\n5. What is the application and its category involved in the DNS requests on the date 2023-11-22?', generation_info={'finish_reason': 'stop'}, message=AIMessage(content='1. What is the type of action taken on the DNS requests made on the date 2023-11-22?\\n2. What are the different destinations that the DNS requests were made to on the date 2023-11-22?\\n3. What is the internal and external IP used for the DNS requests on the date 2023-11-22?\\n4. What are the different query types used in the DNS requests on the date 2023-11-22?\\n5. What is the application and its category involved in the DNS requests on the date 2023-11-22?'))]], llm_output={'token_usage': {'prompt_tokens': 4270, 'completion_tokens': 124, 'total_tokens': 4394}, 'model_name': 'gpt-3.5-turbo'}, run=[RunInfo(run_id=UUID('9c2f5781-97b2-475d-821c-8f608715ca0a'))])"
      ]
     },
     "execution_count": 29,
     "metadata": {},
     "output_type": "execute_result"
    }
   ],
   "source": [
    "qa_pair"
   ]
  },
  {
   "cell_type": "code",
   "execution_count": 30,
   "metadata": {},
   "outputs": [
    {
     "name": "stdout",
     "output_type": "stream",
     "text": [
      "1. What is the type of action taken on the DNS requests made on the date 2023-11-22?\n",
      "2. What are the different destinations that the DNS requests were made to on the date 2023-11-22?\n",
      "3. What is the internal and external IP used for the DNS requests on the date 2023-11-22?\n",
      "4. What are the different query types used in the DNS requests on the date 2023-11-22?\n",
      "5. What is the application and its category involved in the DNS requests on the date 2023-11-22?\n"
     ]
    }
   ],
   "source": [
    "\n",
    "print(qa_pair.generations[0][0].text)"
   ]
  },
  {
   "cell_type": "code",
   "execution_count": 2,
   "metadata": {},
   "outputs": [
    {
     "name": "stdout",
     "output_type": "stream",
     "text": [
      "Collecting langchain_experimental\n",
      "  Obtaining dependency information for langchain_experimental from https://files.pythonhosted.org/packages/bd/34/147eb8d99408c200b2d0d6fc26841833542123622cb45c27af8f33a7d925/langchain_experimental-0.0.42-py3-none-any.whl.metadata\n",
      "  Downloading langchain_experimental-0.0.42-py3-none-any.whl.metadata (1.8 kB)\n",
      "Requirement already satisfied: langchain>=0.0.308 in /Library/Frameworks/Python.framework/Versions/3.11/lib/python3.11/site-packages (from langchain_experimental) (0.0.308)\n",
      "Requirement already satisfied: PyYAML>=5.3 in /Library/Frameworks/Python.framework/Versions/3.11/lib/python3.11/site-packages (from langchain>=0.0.308->langchain_experimental) (6.0.1)\n",
      "Requirement already satisfied: SQLAlchemy<3,>=1.4 in /Library/Frameworks/Python.framework/Versions/3.11/lib/python3.11/site-packages (from langchain>=0.0.308->langchain_experimental) (2.0.22)\n",
      "Requirement already satisfied: aiohttp<4.0.0,>=3.8.3 in /Library/Frameworks/Python.framework/Versions/3.11/lib/python3.11/site-packages (from langchain>=0.0.308->langchain_experimental) (3.8.5)\n",
      "Requirement already satisfied: anyio<4.0 in /Library/Frameworks/Python.framework/Versions/3.11/lib/python3.11/site-packages (from langchain>=0.0.308->langchain_experimental) (3.7.1)\n",
      "Requirement already satisfied: dataclasses-json<0.7,>=0.5.7 in /Library/Frameworks/Python.framework/Versions/3.11/lib/python3.11/site-packages (from langchain>=0.0.308->langchain_experimental) (0.6.1)\n",
      "Requirement already satisfied: jsonpatch<2.0,>=1.33 in /Library/Frameworks/Python.framework/Versions/3.11/lib/python3.11/site-packages (from langchain>=0.0.308->langchain_experimental) (1.33)\n",
      "Requirement already satisfied: langsmith<0.1.0,>=0.0.40 in /Library/Frameworks/Python.framework/Versions/3.11/lib/python3.11/site-packages (from langchain>=0.0.308->langchain_experimental) (0.0.49)\n",
      "Requirement already satisfied: numpy<2,>=1 in /Library/Frameworks/Python.framework/Versions/3.11/lib/python3.11/site-packages (from langchain>=0.0.308->langchain_experimental) (1.26.1)\n",
      "Requirement already satisfied: pydantic<3,>=1 in /Library/Frameworks/Python.framework/Versions/3.11/lib/python3.11/site-packages (from langchain>=0.0.308->langchain_experimental) (1.10.9)\n",
      "Requirement already satisfied: requests<3,>=2 in /Library/Frameworks/Python.framework/Versions/3.11/lib/python3.11/site-packages (from langchain>=0.0.308->langchain_experimental) (2.31.0)\n",
      "Requirement already satisfied: tenacity<9.0.0,>=8.1.0 in /Library/Frameworks/Python.framework/Versions/3.11/lib/python3.11/site-packages (from langchain>=0.0.308->langchain_experimental) (8.2.3)\n",
      "Requirement already satisfied: attrs>=17.3.0 in /Library/Frameworks/Python.framework/Versions/3.11/lib/python3.11/site-packages (from aiohttp<4.0.0,>=3.8.3->langchain>=0.0.308->langchain_experimental) (23.1.0)\n",
      "Requirement already satisfied: charset-normalizer<4.0,>=2.0 in /Library/Frameworks/Python.framework/Versions/3.11/lib/python3.11/site-packages (from aiohttp<4.0.0,>=3.8.3->langchain>=0.0.308->langchain_experimental) (3.3.1)\n",
      "Requirement already satisfied: multidict<7.0,>=4.5 in /Library/Frameworks/Python.framework/Versions/3.11/lib/python3.11/site-packages (from aiohttp<4.0.0,>=3.8.3->langchain>=0.0.308->langchain_experimental) (6.0.4)\n",
      "Requirement already satisfied: async-timeout<5.0,>=4.0.0a3 in /Library/Frameworks/Python.framework/Versions/3.11/lib/python3.11/site-packages (from aiohttp<4.0.0,>=3.8.3->langchain>=0.0.308->langchain_experimental) (4.0.3)\n",
      "Requirement already satisfied: yarl<2.0,>=1.0 in /Library/Frameworks/Python.framework/Versions/3.11/lib/python3.11/site-packages (from aiohttp<4.0.0,>=3.8.3->langchain>=0.0.308->langchain_experimental) (1.9.2)\n",
      "Requirement already satisfied: frozenlist>=1.1.1 in /Library/Frameworks/Python.framework/Versions/3.11/lib/python3.11/site-packages (from aiohttp<4.0.0,>=3.8.3->langchain>=0.0.308->langchain_experimental) (1.4.0)\n",
      "Requirement already satisfied: aiosignal>=1.1.2 in /Library/Frameworks/Python.framework/Versions/3.11/lib/python3.11/site-packages (from aiohttp<4.0.0,>=3.8.3->langchain>=0.0.308->langchain_experimental) (1.3.1)\n",
      "Requirement already satisfied: idna>=2.8 in /Library/Frameworks/Python.framework/Versions/3.11/lib/python3.11/site-packages (from anyio<4.0->langchain>=0.0.308->langchain_experimental) (3.4)\n",
      "Requirement already satisfied: sniffio>=1.1 in /Library/Frameworks/Python.framework/Versions/3.11/lib/python3.11/site-packages (from anyio<4.0->langchain>=0.0.308->langchain_experimental) (1.3.0)\n",
      "Requirement already satisfied: marshmallow<4.0.0,>=3.18.0 in /Library/Frameworks/Python.framework/Versions/3.11/lib/python3.11/site-packages (from dataclasses-json<0.7,>=0.5.7->langchain>=0.0.308->langchain_experimental) (3.20.1)\n",
      "Requirement already satisfied: typing-inspect<1,>=0.4.0 in /Library/Frameworks/Python.framework/Versions/3.11/lib/python3.11/site-packages (from dataclasses-json<0.7,>=0.5.7->langchain>=0.0.308->langchain_experimental) (0.9.0)\n",
      "Requirement already satisfied: jsonpointer>=1.9 in /Library/Frameworks/Python.framework/Versions/3.11/lib/python3.11/site-packages (from jsonpatch<2.0,>=1.33->langchain>=0.0.308->langchain_experimental) (2.4)\n",
      "Requirement already satisfied: typing-extensions>=4.2.0 in /Library/Frameworks/Python.framework/Versions/3.11/lib/python3.11/site-packages (from pydantic<3,>=1->langchain>=0.0.308->langchain_experimental) (4.5.0)\n",
      "Requirement already satisfied: urllib3<3,>=1.21.1 in /Library/Frameworks/Python.framework/Versions/3.11/lib/python3.11/site-packages (from requests<3,>=2->langchain>=0.0.308->langchain_experimental) (2.0.7)\n",
      "Requirement already satisfied: certifi>=2017.4.17 in /Library/Frameworks/Python.framework/Versions/3.11/lib/python3.11/site-packages (from requests<3,>=2->langchain>=0.0.308->langchain_experimental) (2023.7.22)\n",
      "Requirement already satisfied: packaging>=17.0 in /Library/Frameworks/Python.framework/Versions/3.11/lib/python3.11/site-packages (from marshmallow<4.0.0,>=3.18.0->dataclasses-json<0.7,>=0.5.7->langchain>=0.0.308->langchain_experimental) (23.2)\n",
      "Requirement already satisfied: mypy-extensions>=0.3.0 in /Library/Frameworks/Python.framework/Versions/3.11/lib/python3.11/site-packages (from typing-inspect<1,>=0.4.0->dataclasses-json<0.7,>=0.5.7->langchain>=0.0.308->langchain_experimental) (1.0.0)\n",
      "Downloading langchain_experimental-0.0.42-py3-none-any.whl (159 kB)\n",
      "\u001b[2K   \u001b[90m━━━━━━━━━━━━━━━━━━━━━━━━━━━━━━━━━━━━━━━━\u001b[0m \u001b[32m159.4/159.4 kB\u001b[0m \u001b[31m2.1 MB/s\u001b[0m eta \u001b[36m0:00:00\u001b[0m \u001b[36m0:00:01\u001b[0m\n",
      "\u001b[?25hInstalling collected packages: langchain_experimental\n",
      "Successfully installed langchain_experimental-0.0.42\n",
      "\n",
      "\u001b[1m[\u001b[0m\u001b[34;49mnotice\u001b[0m\u001b[1;39;49m]\u001b[0m\u001b[39;49m A new release of pip is available: \u001b[0m\u001b[31;49m23.2.1\u001b[0m\u001b[39;49m -> \u001b[0m\u001b[32;49m23.3.1\u001b[0m\n",
      "\u001b[1m[\u001b[0m\u001b[34;49mnotice\u001b[0m\u001b[1;39;49m]\u001b[0m\u001b[39;49m To update, run: \u001b[0m\u001b[32;49mpip3 install --upgrade pip\u001b[0m\n",
      "Note: you may need to restart the kernel to use updated packages.\n"
     ]
    }
   ],
   "source": [
    "pip install langchain_experimental"
   ]
  },
  {
   "cell_type": "code",
   "execution_count": 31,
   "metadata": {},
   "outputs": [],
   "source": [
    "from langchain.agents.agent_types import AgentType\n",
    "from langchain.chat_models import AzureChatOpenAI\n",
    "from langchain.llms.openai import OpenAI\n",
    "from langchain_experimental.agents.agent_toolkits import create_python_agent\n",
    "from langchain_experimental.tools import PythonREPLTool\n",
    "from langchain.prompts import ChatPromptTemplate"
   ]
  },
  {
   "cell_type": "code",
   "execution_count": 32,
   "metadata": {},
   "outputs": [],
   "source": [
    "llm_chat = AzureChatOpenAI(\n",
    "    temperature=0.0, \n",
    "    deployment_name=\"rajatsa-gpt-4\", \n",
    "    openai_api_type=\"azure\", \n",
    "    openai_api_base=\"https://support-assistant-demo-ai-us-2.openai.azure.com\", \n",
    "    openai_api_version=\"2023-08-01-preview\", \n",
    "    model_name=\"gpt-3.5-turbo\", \n",
    "    openai_api_key=\"2a5292d324ff4947ab6ba9e24746dee1\"\n",
    ")"
   ]
  },
  {
   "cell_type": "code",
   "execution_count": 39,
   "metadata": {},
   "outputs": [
    {
     "data": {
      "text/plain": [
       "str"
      ]
     },
     "execution_count": 39,
     "metadata": {},
     "output_type": "execute_result"
    }
   ],
   "source": [
    "type(data[0].page_content)"
   ]
  },
  {
   "cell_type": "code",
   "execution_count": 48,
   "metadata": {},
   "outputs": [
    {
     "name": "stdout",
     "output_type": "stream",
     "text": [
      "[Document(page_content='\\ufeffType: dns\\nDate: 2023-11-22\\nTime: 06:07:41\\nAction: Allowed\\nErrors: \\nRuleset ID: \\nRuleset Name: \\nRule ID: \\nRule Name: \\nDestination List IDs: \\nDestination Lists: \\nSignature List ID: \\nIPS Signature: \\nIPS Signature Severity: \\nIPS Signature CVE: \\nIdentities: \\nIdentity Types: \\nPolicy or Ruleset Identity: \\nPolicy or Ruleset Identity Type: \\nForwarding Method: \\nInternal IP: 127.0.0.1\\nExternal IP: 8.209.89.140\\nSource IP: \\nDestination IP: \\nSource Port: \\nDestination Port: \\nDestination: luban\\nHostname: \\nCategories: Uncategorized\\nIntegrations: \\nBlocked Categories: \\nApplication: \\nApplication Category: \\nQuery Type: A\\nContent Type: \\nProtocol: \\nFilename: \\nFile Action (Remote Browser Isolation): \\nTotal Size in Bytes: 0\\nRequest Size: \\nResponse Size: \\nPacket Size: \\nReferrer: \\nUser Agent: \\nStatus Code: \\nDirection: \\nThreats: \\nThreat Types: \\nSHA256 Hash: \\nCisco AMP Result: \\nCisco AMP Disposition: \\nCisco AMP Score: \\nAntivirus Result: \\nPotentially Unwanted Applications: \\nOther Antivirus Threats: \\nDetected Response File Type: \\nIsolated State: \\nData Loss Prevention State: \\nTenant Controls: \\nRequest Method: \\nUmbrella Egress IP Address: \\nUmbrella Egress Data Center: \\nProtocol Version: \\nCipher Suite: \\nDecryption Action: \\nDecryption Action Reason: \\nDecryption Error: \\nTotal Client Bytes: \\nTotal Server Bytes: ', metadata={'source': '/Users/adivikra/Downloads/Actitivity_logs (UTC).csv', 'row': 0}), Document(page_content='\\ufeffType: dns\\nDate: 2023-11-22\\nTime: 06:07:41\\nAction: Allowed\\nErrors: \\nRuleset ID: \\nRuleset Name: \\nRule ID: \\nRule Name: \\nDestination List IDs: \\nDestination Lists: \\nSignature List ID: \\nIPS Signature: \\nIPS Signature Severity: \\nIPS Signature CVE: \\nIdentities: \\nIdentity Types: \\nPolicy or Ruleset Identity: \\nPolicy or Ruleset Identity Type: \\nForwarding Method: \\nInternal IP: 127.0.0.1\\nExternal IP: 8.209.89.140\\nSource IP: \\nDestination IP: \\nSource Port: \\nDestination Port: \\nDestination: luban\\nHostname: \\nCategories: Uncategorized\\nIntegrations: \\nBlocked Categories: \\nApplication: \\nApplication Category: \\nQuery Type: AAAA\\nContent Type: \\nProtocol: \\nFilename: \\nFile Action (Remote Browser Isolation): \\nTotal Size in Bytes: 0\\nRequest Size: \\nResponse Size: \\nPacket Size: \\nReferrer: \\nUser Agent: \\nStatus Code: \\nDirection: \\nThreats: \\nThreat Types: \\nSHA256 Hash: \\nCisco AMP Result: \\nCisco AMP Disposition: \\nCisco AMP Score: \\nAntivirus Result: \\nPotentially Unwanted Applications: \\nOther Antivirus Threats: \\nDetected Response File Type: \\nIsolated State: \\nData Loss Prevention State: \\nTenant Controls: \\nRequest Method: \\nUmbrella Egress IP Address: \\nUmbrella Egress Data Center: \\nProtocol Version: \\nCipher Suite: \\nDecryption Action: \\nDecryption Action Reason: \\nDecryption Error: \\nTotal Client Bytes: \\nTotal Server Bytes: ', metadata={'source': '/Users/adivikra/Downloads/Actitivity_logs (UTC).csv', 'row': 1}), Document(page_content='\\ufeffType: dns\\nDate: 2023-11-22\\nTime: 06:07:31\\nAction: Allowed\\nErrors: \\nRuleset ID: \\nRuleset Name: \\nRule ID: \\nRule Name: \\nDestination List IDs: \\nDestination Lists: \\nSignature List ID: \\nIPS Signature: \\nIPS Signature Severity: \\nIPS Signature CVE: \\nIdentities: \\nIdentity Types: \\nPolicy or Ruleset Identity: \\nPolicy or Ruleset Identity Type: \\nForwarding Method: \\nInternal IP: 127.0.0.1\\nExternal IP: 8.209.89.140\\nSource IP: \\nDestination IP: \\nSource Port: \\nDestination Port: \\nDestination: eu-west-1.axt.aliyun.com\\nHostname: \\nCategories: Business Services (Legacy), Application, Cloud and Data Centers\\nIntegrations: \\nBlocked Categories: \\nApplication: Alibaba Cloud\\nApplication Category: Compute\\nQuery Type: A\\nContent Type: \\nProtocol: \\nFilename: \\nFile Action (Remote Browser Isolation): \\nTotal Size in Bytes: 0\\nRequest Size: \\nResponse Size: \\nPacket Size: \\nReferrer: \\nUser Agent: \\nStatus Code: \\nDirection: \\nThreats: \\nThreat Types: \\nSHA256 Hash: \\nCisco AMP Result: \\nCisco AMP Disposition: \\nCisco AMP Score: \\nAntivirus Result: \\nPotentially Unwanted Applications: \\nOther Antivirus Threats: \\nDetected Response File Type: \\nIsolated State: \\nData Loss Prevention State: \\nTenant Controls: \\nRequest Method: \\nUmbrella Egress IP Address: \\nUmbrella Egress Data Center: \\nProtocol Version: \\nCipher Suite: \\nDecryption Action: \\nDecryption Action Reason: \\nDecryption Error: \\nTotal Client Bytes: \\nTotal Server Bytes: ', metadata={'source': '/Users/adivikra/Downloads/Actitivity_logs (UTC).csv', 'row': 2}), Document(page_content='\\ufeffType: dns\\nDate: 2023-11-22\\nTime: 06:07:31\\nAction: Allowed\\nErrors: \\nRuleset ID: \\nRuleset Name: \\nRule ID: \\nRule Name: \\nDestination List IDs: \\nDestination Lists: \\nSignature List ID: \\nIPS Signature: \\nIPS Signature Severity: \\nIPS Signature CVE: \\nIdentities: \\nIdentity Types: \\nPolicy or Ruleset Identity: \\nPolicy or Ruleset Identity Type: \\nForwarding Method: \\nInternal IP: 127.0.0.1\\nExternal IP: 8.209.89.140\\nSource IP: \\nDestination IP: \\nSource Port: \\nDestination Port: \\nDestination: eu-west-1.axt.aliyun.com\\nHostname: \\nCategories: Business Services (Legacy), Application, Cloud and Data Centers\\nIntegrations: \\nBlocked Categories: \\nApplication: Alibaba Cloud\\nApplication Category: Compute\\nQuery Type: AAAA\\nContent Type: \\nProtocol: \\nFilename: \\nFile Action (Remote Browser Isolation): \\nTotal Size in Bytes: 0\\nRequest Size: \\nResponse Size: \\nPacket Size: \\nReferrer: \\nUser Agent: \\nStatus Code: \\nDirection: \\nThreats: \\nThreat Types: \\nSHA256 Hash: \\nCisco AMP Result: \\nCisco AMP Disposition: \\nCisco AMP Score: \\nAntivirus Result: \\nPotentially Unwanted Applications: \\nOther Antivirus Threats: \\nDetected Response File Type: \\nIsolated State: \\nData Loss Prevention State: \\nTenant Controls: \\nRequest Method: \\nUmbrella Egress IP Address: \\nUmbrella Egress Data Center: \\nProtocol Version: \\nCipher Suite: \\nDecryption Action: \\nDecryption Action Reason: \\nDecryption Error: \\nTotal Client Bytes: \\nTotal Server Bytes: ', metadata={'source': '/Users/adivikra/Downloads/Actitivity_logs (UTC).csv', 'row': 3}), Document(page_content='\\ufeffType: dns\\nDate: 2023-11-22\\nTime: 06:07:21\\nAction: Allowed\\nErrors: \\nRuleset ID: \\nRuleset Name: \\nRule ID: \\nRule Name: \\nDestination List IDs: \\nDestination Lists: \\nSignature List ID: \\nIPS Signature: \\nIPS Signature Severity: \\nIPS Signature CVE: \\nIdentities: \\nIdentity Types: \\nPolicy or Ruleset Identity: \\nPolicy or Ruleset Identity Type: \\nForwarding Method: \\nInternal IP: 127.0.0.1\\nExternal IP: 8.209.89.140\\nSource IP: \\nDestination IP: \\nSource Port: \\nDestination Port: \\nDestination: cn-shenzhen.axt.aliyun.com\\nHostname: \\nCategories: Business Services (Legacy), Application, Cloud and Data Centers\\nIntegrations: \\nBlocked Categories: \\nApplication: Alibaba Cloud\\nApplication Category: Compute\\nQuery Type: AAAA\\nContent Type: \\nProtocol: \\nFilename: \\nFile Action (Remote Browser Isolation): \\nTotal Size in Bytes: 0\\nRequest Size: \\nResponse Size: \\nPacket Size: \\nReferrer: \\nUser Agent: \\nStatus Code: \\nDirection: \\nThreats: \\nThreat Types: \\nSHA256 Hash: \\nCisco AMP Result: \\nCisco AMP Disposition: \\nCisco AMP Score: \\nAntivirus Result: \\nPotentially Unwanted Applications: \\nOther Antivirus Threats: \\nDetected Response File Type: \\nIsolated State: \\nData Loss Prevention State: \\nTenant Controls: \\nRequest Method: \\nUmbrella Egress IP Address: \\nUmbrella Egress Data Center: \\nProtocol Version: \\nCipher Suite: \\nDecryption Action: \\nDecryption Action Reason: \\nDecryption Error: \\nTotal Client Bytes: \\nTotal Server Bytes: ', metadata={'source': '/Users/adivikra/Downloads/Actitivity_logs (UTC).csv', 'row': 4}), Document(page_content='\\ufeffType: dns\\nDate: 2023-11-22\\nTime: 06:07:21\\nAction: Allowed\\nErrors: \\nRuleset ID: \\nRuleset Name: \\nRule ID: \\nRule Name: \\nDestination List IDs: \\nDestination Lists: \\nSignature List ID: \\nIPS Signature: \\nIPS Signature Severity: \\nIPS Signature CVE: \\nIdentities: \\nIdentity Types: \\nPolicy or Ruleset Identity: \\nPolicy or Ruleset Identity Type: \\nForwarding Method: \\nInternal IP: 127.0.0.1\\nExternal IP: 8.209.89.140\\nSource IP: \\nDestination IP: \\nSource Port: \\nDestination Port: \\nDestination: cn-shenzhen.axt.aliyun.com\\nHostname: \\nCategories: Business Services (Legacy), Application, Cloud and Data Centers\\nIntegrations: \\nBlocked Categories: \\nApplication: Alibaba Cloud\\nApplication Category: Compute\\nQuery Type: A\\nContent Type: \\nProtocol: \\nFilename: \\nFile Action (Remote Browser Isolation): \\nTotal Size in Bytes: 0\\nRequest Size: \\nResponse Size: \\nPacket Size: \\nReferrer: \\nUser Agent: \\nStatus Code: \\nDirection: \\nThreats: \\nThreat Types: \\nSHA256 Hash: \\nCisco AMP Result: \\nCisco AMP Disposition: \\nCisco AMP Score: \\nAntivirus Result: \\nPotentially Unwanted Applications: \\nOther Antivirus Threats: \\nDetected Response File Type: \\nIsolated State: \\nData Loss Prevention State: \\nTenant Controls: \\nRequest Method: \\nUmbrella Egress IP Address: \\nUmbrella Egress Data Center: \\nProtocol Version: \\nCipher Suite: \\nDecryption Action: \\nDecryption Action Reason: \\nDecryption Error: \\nTotal Client Bytes: \\nTotal Server Bytes: ', metadata={'source': '/Users/adivikra/Downloads/Actitivity_logs (UTC).csv', 'row': 5}), Document(page_content='\\ufeffType: dns\\nDate: 2023-11-22\\nTime: 06:07:21\\nAction: Allowed\\nErrors: \\nRuleset ID: \\nRuleset Name: \\nRule ID: \\nRule Name: \\nDestination List IDs: \\nDestination Lists: \\nSignature List ID: \\nIPS Signature: \\nIPS Signature Severity: \\nIPS Signature CVE: \\nIdentities: \\nIdentity Types: \\nPolicy or Ruleset Identity: \\nPolicy or Ruleset Identity Type: \\nForwarding Method: \\nInternal IP: 127.0.0.1\\nExternal IP: 8.209.89.140\\nSource IP: \\nDestination IP: \\nSource Port: \\nDestination Port: \\nDestination: cn-hongkong.axt.aliyun.com\\nHostname: \\nCategories: Business Services (Legacy), Application, Cloud and Data Centers\\nIntegrations: \\nBlocked Categories: \\nApplication: Alibaba Cloud\\nApplication Category: Compute\\nQuery Type: A\\nContent Type: \\nProtocol: \\nFilename: \\nFile Action (Remote Browser Isolation): \\nTotal Size in Bytes: 0\\nRequest Size: \\nResponse Size: \\nPacket Size: \\nReferrer: \\nUser Agent: \\nStatus Code: \\nDirection: \\nThreats: \\nThreat Types: \\nSHA256 Hash: \\nCisco AMP Result: \\nCisco AMP Disposition: \\nCisco AMP Score: \\nAntivirus Result: \\nPotentially Unwanted Applications: \\nOther Antivirus Threats: \\nDetected Response File Type: \\nIsolated State: \\nData Loss Prevention State: \\nTenant Controls: \\nRequest Method: \\nUmbrella Egress IP Address: \\nUmbrella Egress Data Center: \\nProtocol Version: \\nCipher Suite: \\nDecryption Action: \\nDecryption Action Reason: \\nDecryption Error: \\nTotal Client Bytes: \\nTotal Server Bytes: ', metadata={'source': '/Users/adivikra/Downloads/Actitivity_logs (UTC).csv', 'row': 6}), Document(page_content='\\ufeffType: dns\\nDate: 2023-11-22\\nTime: 06:07:21\\nAction: Allowed\\nErrors: \\nRuleset ID: \\nRuleset Name: \\nRule ID: \\nRule Name: \\nDestination List IDs: \\nDestination Lists: \\nSignature List ID: \\nIPS Signature: \\nIPS Signature Severity: \\nIPS Signature CVE: \\nIdentities: \\nIdentity Types: \\nPolicy or Ruleset Identity: \\nPolicy or Ruleset Identity Type: \\nForwarding Method: \\nInternal IP: 127.0.0.1\\nExternal IP: 8.209.89.140\\nSource IP: \\nDestination IP: \\nSource Port: \\nDestination Port: \\nDestination: cn-hongkong.axt.aliyun.com\\nHostname: \\nCategories: Business Services (Legacy), Application, Cloud and Data Centers\\nIntegrations: \\nBlocked Categories: \\nApplication: Alibaba Cloud\\nApplication Category: Compute\\nQuery Type: AAAA\\nContent Type: \\nProtocol: \\nFilename: \\nFile Action (Remote Browser Isolation): \\nTotal Size in Bytes: 0\\nRequest Size: \\nResponse Size: \\nPacket Size: \\nReferrer: \\nUser Agent: \\nStatus Code: \\nDirection: \\nThreats: \\nThreat Types: \\nSHA256 Hash: \\nCisco AMP Result: \\nCisco AMP Disposition: \\nCisco AMP Score: \\nAntivirus Result: \\nPotentially Unwanted Applications: \\nOther Antivirus Threats: \\nDetected Response File Type: \\nIsolated State: \\nData Loss Prevention State: \\nTenant Controls: \\nRequest Method: \\nUmbrella Egress IP Address: \\nUmbrella Egress Data Center: \\nProtocol Version: \\nCipher Suite: \\nDecryption Action: \\nDecryption Action Reason: \\nDecryption Error: \\nTotal Client Bytes: \\nTotal Server Bytes: ', metadata={'source': '/Users/adivikra/Downloads/Actitivity_logs (UTC).csv', 'row': 7}), Document(page_content='\\ufeffType: dns\\nDate: 2023-11-22\\nTime: 06:07:11\\nAction: Allowed\\nErrors: \\nRuleset ID: \\nRuleset Name: \\nRule ID: \\nRule Name: \\nDestination List IDs: \\nDestination Lists: \\nSignature List ID: \\nIPS Signature: \\nIPS Signature Severity: \\nIPS Signature CVE: \\nIdentities: \\nIdentity Types: \\nPolicy or Ruleset Identity: \\nPolicy or Ruleset Identity Type: \\nForwarding Method: \\nInternal IP: 127.0.0.1\\nExternal IP: 8.209.89.140\\nSource IP: \\nDestination IP: \\nSource Port: \\nDestination Port: \\nDestination: cn-shanghai.axt.aliyun.com\\nHostname: \\nCategories: Business Services (Legacy), Application, Cloud and Data Centers\\nIntegrations: \\nBlocked Categories: \\nApplication: Alibaba Cloud\\nApplication Category: Compute\\nQuery Type: A\\nContent Type: \\nProtocol: \\nFilename: \\nFile Action (Remote Browser Isolation): \\nTotal Size in Bytes: 0\\nRequest Size: \\nResponse Size: \\nPacket Size: \\nReferrer: \\nUser Agent: \\nStatus Code: \\nDirection: \\nThreats: \\nThreat Types: \\nSHA256 Hash: \\nCisco AMP Result: \\nCisco AMP Disposition: \\nCisco AMP Score: \\nAntivirus Result: \\nPotentially Unwanted Applications: \\nOther Antivirus Threats: \\nDetected Response File Type: \\nIsolated State: \\nData Loss Prevention State: \\nTenant Controls: \\nRequest Method: \\nUmbrella Egress IP Address: \\nUmbrella Egress Data Center: \\nProtocol Version: \\nCipher Suite: \\nDecryption Action: \\nDecryption Action Reason: \\nDecryption Error: \\nTotal Client Bytes: \\nTotal Server Bytes: ', metadata={'source': '/Users/adivikra/Downloads/Actitivity_logs (UTC).csv', 'row': 8})]\n"
     ]
    }
   ],
   "source": [
    "\n",
    "prompt_text = \"\"\" You are a agent coming up with insights based on given 5 questions on following logs. \n",
    "\n",
    "Logs:\n",
    "\n",
    "The following data {} contains activity logs. Please analyse the data.\n",
    "\n",
    "Questions: \n",
    "1. What is the common action taken for all the DNS requests mentioned in the document?\n",
    "2. What is the common internal and external IP address for all the DNS requests?\n",
    "3. What are the different destinations mentioned in the DNS requests?\n",
    "4. What is the common application and application category mentioned in the DNS requests?\n",
    "5. What was IP Address for users for whom domains were blocked and which policies were applied?\n",
    "\n",
    "Instructions:\n",
    "2. Format the insights in JSON.\n",
    "\n",
    "Given the following document, please analyze the data and provide detailed and informative insights.\n",
    "\n",
    "These insights should be detailed and be based explicitly on information in the document. \n",
    "\n",
    "Begin!\n",
    "\"\"\"\n",
    "\n",
    "prompt_text_with_data = prompt_text.format(data[0].page_content)\n",
    "prompt = ChatPromptTemplate.from_template(prompt_text_with_data) \n",
    "\n",
    "print(data)\n",
    "\n",
    "#print(response['choices'][0]['text'])"
   ]
  },
  {
   "cell_type": "code",
   "execution_count": 54,
   "metadata": {},
   "outputs": [],
   "source": [
    "from langchain.schema.runnable import RunnablePassthrough\n",
    "\n",
    "llm_chat = AzureChatOpenAI(\n",
    "    temperature=0.0, \n",
    "    deployment_name=\"rajatsa-gpt-4\", \n",
    "    openai_api_type=\"azure\", \n",
    "    openai_api_base=\"https://support-assistant-demo-ai-us-2.openai.azure.com\", \n",
    "    openai_api_version=\"2023-08-01-preview\", \n",
    "    model_name=\"gpt-3.5-turbo\", \n",
    "    openai_api_key=\"2a5292d324ff4947ab6ba9e24746dee1\"\n",
    ")\n",
    "\n",
    "chain = (\n",
    "    {\"question\": RunnablePassthrough()} \n",
    "    | prompt \n",
    "    | llm_chat \n",
    ")\n",
    "output = chain.invoke(\"Generate insights and put them in json format\")"
   ]
  },
  {
   "cell_type": "code",
   "execution_count": 55,
   "metadata": {},
   "outputs": [
    {
     "data": {
      "text/plain": [
       "'Based on the provided logs, here are the insights:\\n\\n1. The common action taken for all the DNS requests mentioned in the document is \"Allowed\". This means that the DNS requests were not blocked and were successfully processed.\\n\\n2. The common internal IP address for all the DNS requests is \"127.0.0.1\". This is a loopback address, which means the requests were made from the same machine. The common external IP address is \"8.209.89.140\". This could be the IP address of the server where the DNS requests were sent.\\n\\n3. The only destination mentioned in the DNS requests is \"luban\". This could be the domain name that the DNS requests were trying to resolve.\\n\\n4. The application and application category are not mentioned in the DNS requests. This information might not be available or not applicable for DNS requests.\\n\\n5. The only query type mentioned in the DNS requests is \"A\". This is a standard DNS query type that is used to find the IP address associated with a domain name.\\n\\nHere are the insights in JSON format:\\n\\n```\\n{\\n  \"common_action\": \"Allowed\",\\n  \"common_internal_ip\": \"127.0.0.1\",\\n  \"common_external_ip\": \"8.209.89.140\",\\n  \"destinations\": [\"luban\"],\\n  \"application\": null,\\n  \"application_category\": null,\\n  \"query_types\": [\"A\"]\\n}\\n```'"
      ]
     },
     "execution_count": 55,
     "metadata": {},
     "output_type": "execute_result"
    }
   ],
   "source": [
    "output.content"
   ]
  },
  {
   "cell_type": "code",
   "execution_count": 62,
   "metadata": {},
   "outputs": [
    {
     "name": "stdout",
     "output_type": "stream",
     "text": [
      "\n",
      "\n",
      "\u001b[1m> Entering new AgentExecutor chain...\u001b[0m\n",
      "\u001b[32;1m\u001b[1;3mYes, I can provide you with a Python script that uses the `dpkt` library to parse the pcap file and then writes the parsed data to a CSV file. However, please note that this script only extracts basic information such as timestamp, source IP, destination IP, source port, and destination port. If you need more detailed information, you will need to modify the script accordingly.\n",
      "\n",
      "Here is the Python script:\n",
      "\n",
      "```python\n",
      "import csv\n",
      "import dpkt\n",
      "import socket\n",
      "import time\n",
      "\n",
      "def inet_to_str(inet):\n",
      "    try:\n",
      "        return socket.inet_ntop(socket.AF_INET, inet)\n",
      "    except ValueError:\n",
      "        return socket.inet_ntop(socket.AF_INET6, inet)\n",
      "\n",
      "def pcap_to_csv(pcap_file, csv_file):\n",
      "    with open(pcap_file, 'rb') as f:\n",
      "        pcap = dpkt.pcap.Reader(f)\n",
      "        with open(csv_file, 'w', newline='') as csvfile:\n",
      "            fieldnames = ['timestamp', 'src_ip', 'dst_ip', 'src_port', 'dst_port']\n",
      "            writer = csv.DictWriter(csvfile, fieldnames=fieldnames)\n",
      "            writer.writeheader()\n",
      "            for timestamp, buf in pcap:\n",
      "                eth = dpkt.ethernet.Ethernet(buf)\n",
      "                if isinstance(eth.data, dpkt.ip.IP):\n",
      "                    ip = eth.data\n",
      "                    if isinstance(ip.data, dpkt.tcp.TCP) or isinstance(ip.data, dpkt.udp.UDP):\n",
      "                        transport = ip.data\n",
      "                        writer.writerow({'timestamp': time.strftime('%Y-%m-%d %H:%M:%S', time.localtime(timestamp)),\n",
      "                                         'src_ip': inet_to_str(ip.src),\n",
      "                                         'dst_ip': inet_to_str(ip.dst),\n",
      "                                         'src_port': transport.sport,\n",
      "                                         'dst_port': transport.dport})\n",
      "\n",
      "# usage\n",
      "pcap_to_csv('input.pcap', 'output.csv')\n",
      "```\n",
      "\n",
      "Please replace `'input.pcap'` and `'output.csv'` with your actual input pcap file path and desired output CSV file path.\n",
      "\n",
      "Please note that this script requires the `dpkt` library. If you haven't installed it yet, you can install it using pip:\n",
      "\n",
      "```bash\n",
      "pip install dpkt\n",
      "```\n",
      "\n",
      "Unfortunately, I can't run this script here because it requires file I/O operations and the `dpkt` library, which are not supported in this environment. You should run this script in your local environment.\u001b[0m\n",
      "\n",
      "\u001b[1m> Finished chain.\u001b[0m\n"
     ]
    },
    {
     "data": {
      "text/plain": [
       "\"Yes, I can provide you with a Python script that uses the `dpkt` library to parse the pcap file and then writes the parsed data to a CSV file. However, please note that this script only extracts basic information such as timestamp, source IP, destination IP, source port, and destination port. If you need more detailed information, you will need to modify the script accordingly.\\n\\nHere is the Python script:\\n\\n```python\\nimport csv\\nimport dpkt\\nimport socket\\nimport time\\n\\ndef inet_to_str(inet):\\n    try:\\n        return socket.inet_ntop(socket.AF_INET, inet)\\n    except ValueError:\\n        return socket.inet_ntop(socket.AF_INET6, inet)\\n\\ndef pcap_to_csv(pcap_file, csv_file):\\n    with open(pcap_file, 'rb') as f:\\n        pcap = dpkt.pcap.Reader(f)\\n        with open(csv_file, 'w', newline='') as csvfile:\\n            fieldnames = ['timestamp', 'src_ip', 'dst_ip', 'src_port', 'dst_port']\\n            writer = csv.DictWriter(csvfile, fieldnames=fieldnames)\\n            writer.writeheader()\\n            for timestamp, buf in pcap:\\n                eth = dpkt.ethernet.Ethernet(buf)\\n                if isinstance(eth.data, dpkt.ip.IP):\\n                    ip = eth.data\\n                    if isinstance(ip.data, dpkt.tcp.TCP) or isinstance(ip.data, dpkt.udp.UDP):\\n                        transport = ip.data\\n                        writer.writerow({'timestamp': time.strftime('%Y-%m-%d %H:%M:%S', time.localtime(timestamp)),\\n                                         'src_ip': inet_to_str(ip.src),\\n                                         'dst_ip': inet_to_str(ip.dst),\\n                                         'src_port': transport.sport,\\n                                         'dst_port': transport.dport})\\n\\n# usage\\npcap_to_csv('input.pcap', 'output.csv')\\n```\\n\\nPlease replace `'input.pcap'` and `'output.csv'` with your actual input pcap file path and desired output CSV file path.\\n\\nPlease note that this script requires the `dpkt` library. If you haven't installed it yet, you can install it using pip:\\n\\n```bash\\npip install dpkt\\n```\\n\\nUnfortunately, I can't run this script here because it requires file I/O operations and the `dpkt` library, which are not supported in this environment. You should run this script in your local environment.\""
      ]
     },
     "execution_count": 62,
     "metadata": {},
     "output_type": "execute_result"
    }
   ],
   "source": [
    "agent_executor = create_python_agent(\n",
    "    llm=llm_chat,\n",
    "    tool=PythonREPLTool(),\n",
    "    verbose=True,\n",
    "    agent_type=AgentType.OPENAI_FUNCTIONS,\n",
    "    agent_executor_kwargs={\"handle_parsing_errors\": True},\n",
    ")\n",
    "\n",
    "\n",
    "agent_executor.run(\"Can you write code for converting a pcap file to csv\")"
   ]
  },
  {
   "cell_type": "code",
   "execution_count": 58,
   "metadata": {},
   "outputs": [],
   "source": [
    "from reportlab.lib.pagesizes import letter\n",
    "from reportlab.pdfgen import canvas\n",
    "\n",
    "def create_pdf(content, file_name='report.pdf'):\n",
    "    c = canvas.Canvas(file_name, pagesize=letter)\n",
    "    width, height = letter\n",
    "    lines = content.split('\\n')\n",
    "    line_height = 12\n",
    "    margin = 50\n",
    "\n",
    "    # Set font\n",
    "    c.setFont(\"Helvetica\", 12)\n",
    "\n",
    "    # Write content to PDF\n",
    "    for i, line in enumerate(lines):\n",
    "        y_position = height - margin - (i * line_height)\n",
    "        c.drawCentredString(width / 2, y_position, line)\n",
    "\n",
    "    # Save the PDF\n",
    "    c.save()\n",
    "\n",
    "if __name__ == \"__main__\":\n",
    "    create_pdf(output.content)"
   ]
  },
  {
   "cell_type": "code",
   "execution_count": 2,
   "metadata": {},
   "outputs": [
    {
     "ename": "ModuleNotFoundError",
     "evalue": "No module named 'langchain'",
     "output_type": "error",
     "traceback": [
      "\u001b[0;31m---------------------------------------------------------------------------\u001b[0m",
      "\u001b[0;31mModuleNotFoundError\u001b[0m                       Traceback (most recent call last)",
      "Cell \u001b[0;32mIn[2], line 1\u001b[0m\n\u001b[0;32m----> 1\u001b[0m \u001b[39mfrom\u001b[39;00m \u001b[39mlangchain\u001b[39;00m\u001b[39m.\u001b[39;00m\u001b[39mschema\u001b[39;00m\u001b[39m.\u001b[39;00m\u001b[39mrunnable\u001b[39;00m \u001b[39mimport\u001b[39;00m RunnablePassthrough\n\u001b[1;32m      3\u001b[0m \u001b[39m# Set up the AzureChatOpenAI chatbot\u001b[39;00m\n\u001b[1;32m      4\u001b[0m llm_chat \u001b[39m=\u001b[39m AzureChatOpenAI(\n\u001b[1;32m      5\u001b[0m     temperature\u001b[39m=\u001b[39m\u001b[39m0.0\u001b[39m,\n\u001b[1;32m      6\u001b[0m     deployment_name\u001b[39m=\u001b[39m\u001b[39m\"\u001b[39m\u001b[39mrajatsa-gpt-4\u001b[39m\u001b[39m\"\u001b[39m,\n\u001b[0;32m   (...)\u001b[0m\n\u001b[1;32m     11\u001b[0m     openai_api_key\u001b[39m=\u001b[39m\u001b[39m\"\u001b[39m\u001b[39m2a5292d324ff4947ab6ba9e24746dee1\u001b[39m\u001b[39m\"\u001b[39m\n\u001b[1;32m     12\u001b[0m )\n",
      "\u001b[0;31mModuleNotFoundError\u001b[0m: No module named 'langchain'"
     ]
    }
   ],
   "source": [
    "\n",
    "from langchain.schema.runnable import RunnablePassthrough\n",
    "\n",
    "# Set up the AzureChatOpenAI chatbot\n",
    "llm_chat = AzureChatOpenAI(\n",
    "    temperature=0.0,\n",
    "    deployment_name=\"rajatsa-gpt-4\",\n",
    "    openai_api_type=\"azure\",\n",
    "    openai_api_base=\"https://support-assistant-demo-ai-us-2.openai.azure.com\",\n",
    "    openai_api_version=\"2023-08-01-preview\",\n",
    "    model_name=\"gpt-3.5-turbo\",\n",
    "    openai_api_key=\"2a5292d324ff4947ab6ba9e24746dee1\"\n",
    ")\n",
    "\n",
    "# Define the language model chain\n",
    "prompt = PromptTemplate(template=\"Please generate insights and put them in JSON format.\")\n",
    "chain = (\n",
    "    {\"question\": RunnablePassthrough()}\n",
    "    | prompt\n",
    "    | llm_chat\n",
    ")\n",
    "\n",
    "# Define a function to check for hallucinations\n",
    "def check_hallucination(response):\n",
    "    # Identify signs of hallucinations\n",
    "    if is_factually_inaccurate(response):\n",
    "        return True\n",
    "    if is_nonsensical(response):\n",
    "        return True\n",
    "    if is_detached_from_reality(response):\n",
    "        return True\n",
    "    return False\n",
    "\n",
    "# Evaluate responses at different temperatures\n",
    "hallucination_rates = {}\n",
    "for temperature in [0.0, 0.2, 0.8, 1.0]:\n",
    "    llm_chat.temperature = temperature\n",
    "    output = chain.invoke(\"Generate insights and put them in JSON format\")\n",
    "    num_hallucinations = 0\n",
    "    for response in output:\n",
    "        if check_hallucination(response):\n",
    "            num_hallucinations += 1\n",
    "    hallucination_rate = num_hallucinations / len(output)\n",
    "    hallucination_rates[temperature] = hallucination_rate\n",
    "\n",
    "# Print the hallucination rates\n",
    "print(hallucination_rates)\n",
    "\n"
   ]
  },
  {
   "cell_type": "code",
   "execution_count": null,
   "metadata": {},
   "outputs": [],
   "source": []
  }
 ],
 "metadata": {
  "kernelspec": {
   "display_name": "Python 3 (ipykernel)",
   "language": "python",
   "name": "python3"
  },
  "language_info": {
   "codemirror_mode": {
    "name": "ipython",
    "version": 3
   },
   "file_extension": ".py",
   "mimetype": "text/x-python",
   "name": "python",
   "nbconvert_exporter": "python",
   "pygments_lexer": "ipython3",
   "version": "3.11.6"
  }
 },
 "nbformat": 4,
 "nbformat_minor": 4
}
